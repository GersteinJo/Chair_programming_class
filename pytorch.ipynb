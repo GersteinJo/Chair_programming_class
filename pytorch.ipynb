{
  "nbformat": 4,
  "nbformat_minor": 0,
  "metadata": {
    "colab": {
      "provenance": [],
      "authorship_tag": "ABX9TyNRW/kG4i8t12gqw+N7ubDH",
      "include_colab_link": true
    },
    "kernelspec": {
      "name": "python3",
      "display_name": "Python 3"
    },
    "language_info": {
      "name": "python"
    }
  },
  "cells": [
    {
      "cell_type": "markdown",
      "metadata": {
        "id": "view-in-github",
        "colab_type": "text"
      },
      "source": [
        "<a href=\"https://colab.research.google.com/github/GersteinJo/Chair_programming_class/blob/main/pytorch.ipynb\" target=\"_parent\"><img src=\"https://colab.research.google.com/assets/colab-badge.svg\" alt=\"Open In Colab\"/></a>"
      ]
    },
    {
      "cell_type": "code",
      "execution_count": 139,
      "metadata": {
        "id": "IG5iLdAISCYD"
      },
      "outputs": [],
      "source": [
        "import torch\n",
        "import numpy as np"
      ]
    },
    {
      "cell_type": "code",
      "source": [
        " tensor_3d = torch.randn(3, 4, 5)\n",
        " tensor_3d"
      ],
      "metadata": {
        "colab": {
          "base_uri": "https://localhost:8080/"
        },
        "id": "tgnunnc2SGZv",
        "outputId": "d2204ad0-ff8a-4760-8b01-9e234d865d4f"
      },
      "execution_count": 140,
      "outputs": [
        {
          "output_type": "execute_result",
          "data": {
            "text/plain": [
              "tensor([[[-0.0982,  0.3841, -1.8034,  1.7807, -0.3333],\n",
              "         [-2.0240,  0.3320,  0.2886, -1.4908,  1.1009],\n",
              "         [-0.5156, -0.5295, -0.0692,  1.4765, -0.5292],\n",
              "         [-0.6222, -3.0965, -0.2728, -0.7576,  0.4796]],\n",
              "\n",
              "        [[ 0.9073,  1.3944, -0.7895,  0.5470,  0.8095],\n",
              "         [-0.3406,  0.3339,  0.0103, -0.4788, -1.1443],\n",
              "         [-1.0989, -0.4295,  0.0039,  1.1267, -0.1914],\n",
              "         [ 0.3347,  1.8397,  0.0979,  0.8336,  0.9328]],\n",
              "\n",
              "        [[-0.4568, -0.4488, -0.8851,  0.6997, -0.0714],\n",
              "         [ 1.6807,  0.4799, -1.8880,  1.4126, -1.4238],\n",
              "         [ 0.3318,  1.8289, -0.1702, -0.0099,  2.4015],\n",
              "         [ 0.6971, -0.2976, -0.9196, -1.1756, -1.1829]]])"
            ]
          },
          "metadata": {},
          "execution_count": 140
        }
      ]
    },
    {
      "cell_type": "code",
      "source": [
        "np_arr = np.random.rand(3, 4)\n",
        "torch_np = torch.tensor(np_arr)\n",
        "torch_np.dtype, tensor_3d.dtype"
      ],
      "metadata": {
        "colab": {
          "base_uri": "https://localhost:8080/"
        },
        "id": "kF0KBej_VLzM",
        "outputId": "48027e34-3425-4003-bdc6-eb97c7481b85"
      },
      "execution_count": 141,
      "outputs": [
        {
          "output_type": "execute_result",
          "data": {
            "text/plain": [
              "(torch.float64, torch.float32)"
            ]
          },
          "metadata": {},
          "execution_count": 141
        }
      ]
    },
    {
      "cell_type": "code",
      "source": [
        "##tensor operations\n",
        "\n",
        "my_torch = torch.arange(10)\n",
        "my_torch2 = my_torch.reshape(2, 5)\n",
        "my_torch3 = my_torch.view(2, -1)\n",
        "\n",
        "my_torch3[1, 2] = 1000\n",
        "my_torch, my_torch2\n",
        "my_torch[-1]"
      ],
      "metadata": {
        "colab": {
          "base_uri": "https://localhost:8080/"
        },
        "id": "E5iTNLCXVpEZ",
        "outputId": "f4efae8c-d783-4e94-eeb9-000270af6846"
      },
      "execution_count": 142,
      "outputs": [
        {
          "output_type": "execute_result",
          "data": {
            "text/plain": [
              "tensor(9)"
            ]
          },
          "metadata": {},
          "execution_count": 142
        }
      ]
    },
    {
      "cell_type": "code",
      "source": [
        "my_torch3 = my_torch2 - my_torch3"
      ],
      "metadata": {
        "id": "VhfBjLK1XAX4"
      },
      "execution_count": 143,
      "outputs": []
    },
    {
      "cell_type": "code",
      "source": [
        "my_torch3"
      ],
      "metadata": {
        "colab": {
          "base_uri": "https://localhost:8080/"
        },
        "id": "zh3N7UjwfxcZ",
        "outputId": "94c02c9c-517f-46e9-cfe9-f9198c72c427"
      },
      "execution_count": 144,
      "outputs": [
        {
          "output_type": "execute_result",
          "data": {
            "text/plain": [
              "tensor([[0, 0, 0, 0, 0],\n",
              "        [0, 0, 0, 0, 0]])"
            ]
          },
          "metadata": {},
          "execution_count": 144
        }
      ]
    },
    {
      "cell_type": "code",
      "source": [
        "my_torch3[1, 3] = 15\n",
        "my_torch2"
      ],
      "metadata": {
        "colab": {
          "base_uri": "https://localhost:8080/"
        },
        "id": "img3Ya0rfzXg",
        "outputId": "e2c84886-da5f-4147-b7f1-2132848d66e4"
      },
      "execution_count": 145,
      "outputs": [
        {
          "output_type": "execute_result",
          "data": {
            "text/plain": [
              "tensor([[   0,    1,    2,    3,    4],\n",
              "        [   5,    6, 1000,    8,    9]])"
            ]
          },
          "metadata": {},
          "execution_count": 145
        }
      ]
    },
    {
      "cell_type": "code",
      "source": [
        "##basic neural network with torch\n",
        "\n",
        "import torch.nn as nn\n",
        "import torch.nn.functional as F\n"
      ],
      "metadata": {
        "id": "TLLbpLz8f7I9"
      },
      "execution_count": 146,
      "outputs": []
    },
    {
      "cell_type": "code",
      "source": [
        "class Model(nn.Module):\n",
        "  def __init__(self, in_features = 4, h1= 8, h2 = 9, out_features = 3):\n",
        "    super().__init__()\n",
        "\n",
        "    self.fc1 = nn.Linear(in_features, h1)\n",
        "    self.act1 = nn.ReLU()\n",
        "    self.fc2 = nn.Linear(h1, h2)\n",
        "    self.act2 = nn.ReLU()\n",
        "    self.fc3 = nn.Linear(h2, out_features)\n",
        "    self.act3 = nn.Softmax()\n",
        "\n",
        "  def forward(self, x):\n",
        "    x = self.fc1(x)\n",
        "    x = self.act1(x)\n",
        "    x = self.fc2(x)\n",
        "    x = self.act2(x)\n",
        "    x = self.fc3(x)\n",
        "    # x = self.act3(x)\n",
        "    return x\n",
        "\n",
        "\n",
        "\n"
      ],
      "metadata": {
        "id": "eDw1x0AcgnZx"
      },
      "execution_count": 147,
      "outputs": []
    },
    {
      "cell_type": "code",
      "source": [
        "#randomization seed\n",
        "# torch.manual.seed(41)\n",
        "model = Model()"
      ],
      "metadata": {
        "id": "Znv5X7HIisCb"
      },
      "execution_count": 148,
      "outputs": []
    },
    {
      "cell_type": "code",
      "source": [
        "import matplotlib.pyplot as plt\n",
        "import pandas as pd\n",
        "%matplotlib inline"
      ],
      "metadata": {
        "id": "smCWRMDXi8dg"
      },
      "execution_count": 149,
      "outputs": []
    },
    {
      "cell_type": "code",
      "source": [
        "from sklearn import datasets\n",
        "my_df = datasets.load_iris()\n",
        "x = my_df.data\n",
        "y = my_df.target"
      ],
      "metadata": {
        "id": "u2aXTM-v2l6u"
      },
      "execution_count": 150,
      "outputs": []
    },
    {
      "cell_type": "code",
      "source": [
        "from sklearn.model_selection import train_test_split\n",
        "x_train,x_test,  y_train, y_test = train_test_split(x, y, random_state = 41)\n",
        "x_train = torch.FloatTensor(x_train)\n",
        "x_test = torch.FloatTensor(x_test)\n",
        "y_train = torch.LongTensor(y_train)\n",
        "y_test = torch.LongTensor(y_test)"
      ],
      "metadata": {
        "id": "i8bwKCKU3CaY"
      },
      "execution_count": 151,
      "outputs": []
    },
    {
      "cell_type": "code",
      "source": [
        "criterion = nn.CrossEntropyLoss()\n",
        "optimizer = torch.optim.Adam(model.parameters(), lr = 0.01)"
      ],
      "metadata": {
        "id": "zRWE71gb4EAP"
      },
      "execution_count": 152,
      "outputs": []
    },
    {
      "cell_type": "code",
      "source": [
        "epochs = 200\n",
        "losses = []\n",
        "for i in range(epochs):\n",
        "  y_pred = model.forward(x_train)\n",
        "  loss = criterion(y_pred, y_train)\n",
        "  losses.append(loss.detach().numpy())\n",
        "  if i%10==0:\n",
        "    print(f'Epoch: {i}, loss: {loss}')\n",
        "\n",
        "  optimizer.zero_grad()\n",
        "  loss.backward()\n",
        "  optimizer.step()"
      ],
      "metadata": {
        "colab": {
          "base_uri": "https://localhost:8080/"
        },
        "id": "TD2-OHS45UNJ",
        "outputId": "37a6f2b4-1a9e-4f91-a313-1ad1bbf8d3a9"
      },
      "execution_count": 153,
      "outputs": [
        {
          "output_type": "stream",
          "name": "stdout",
          "text": [
            "Epoch: 0, loss: 1.249215006828308\n",
            "Epoch: 10, loss: 0.8164790868759155\n",
            "Epoch: 20, loss: 0.5313937067985535\n",
            "Epoch: 30, loss: 0.39561915397644043\n",
            "Epoch: 40, loss: 0.29955917596817017\n",
            "Epoch: 50, loss: 0.15857639908790588\n",
            "Epoch: 60, loss: 0.09088288247585297\n",
            "Epoch: 70, loss: 0.06370467692613602\n",
            "Epoch: 80, loss: 0.05136927589774132\n",
            "Epoch: 90, loss: 0.04431280121207237\n",
            "Epoch: 100, loss: 0.0395493321120739\n",
            "Epoch: 110, loss: 0.0359850749373436\n",
            "Epoch: 120, loss: 0.033127591013908386\n",
            "Epoch: 130, loss: 0.030758948996663094\n",
            "Epoch: 140, loss: 0.028744027018547058\n",
            "Epoch: 150, loss: 0.02700103260576725\n",
            "Epoch: 160, loss: 0.025472715497016907\n",
            "Epoch: 170, loss: 0.024115214124321938\n",
            "Epoch: 180, loss: 0.0228962954133749\n",
            "Epoch: 190, loss: 0.021790653467178345\n"
          ]
        }
      ]
    },
    {
      "cell_type": "code",
      "source": [
        "plt.plot(range(epochs), losses)\n",
        "plt.xlabel(\"epoch\")\n",
        "plt.ylabel(\"loss\")"
      ],
      "metadata": {
        "colab": {
          "base_uri": "https://localhost:8080/",
          "height": 467
        },
        "id": "DzykvFtx6pLM",
        "outputId": "a956cf7c-f88a-461c-f1e2-34641b304b07"
      },
      "execution_count": 154,
      "outputs": [
        {
          "output_type": "execute_result",
          "data": {
            "text/plain": [
              "Text(0, 0.5, 'loss')"
            ]
          },
          "metadata": {},
          "execution_count": 154
        },
        {
          "output_type": "display_data",
          "data": {
            "text/plain": [
              "<Figure size 640x480 with 1 Axes>"
            ],
            "image/png": "[encoded data removed]"
          },
          "metadata": {}
        }
      ]
    },
    {
      "cell_type": "code",
      "source": [
        "with torch.no_grad():\n",
        "  y_pred = model.forward(x_test)\n",
        "  loss = criterion(y_pred, y_test)\n",
        "loss"
      ],
      "metadata": {
        "colab": {
          "base_uri": "https://localhost:8080/"
        },
        "id": "Ip4M9xA59P8S",
        "outputId": "21bb0710-b7d5-4dab-e80e-2568ba77a9d7"
      },
      "execution_count": 155,
      "outputs": [
        {
          "output_type": "execute_result",
          "data": {
            "text/plain": [
              "tensor(0.1487)"
            ]
          },
          "metadata": {},
          "execution_count": 155
        }
      ]
    },
    {
      "cell_type": "code",
      "source": [
        "correct = 0\n",
        "with torch.no_grad():\n",
        "  for i, dat in enumerate(x_test):\n",
        "    y_pred = model.forward(dat)\n",
        "    if y_pred.argmax().item() != y_test[i]:\n",
        "      print(f'{i+1}). {str(y_pred)} \\t {y_test[i]}')\n"
      ],
      "metadata": {
        "colab": {
          "base_uri": "https://localhost:8080/"
        },
        "id": "tooLp3Aw-fd-",
        "outputId": "d0d4091f-9c0b-4b38-95d1-00674b8450a2"
      },
      "execution_count": 156,
      "outputs": [
        {
          "output_type": "stream",
          "name": "stdout",
          "text": [
            "16). tensor([-6.5810,  3.7727,  3.2071]) \t 2\n",
            "18). tensor([-8.0398,  2.0206,  6.2744]) \t 1\n"
          ]
        }
      ]
    },
    {
      "cell_type": "code",
      "source": [
        "##adding data\n",
        "\n",
        "new_iris = torch.tensor([4.7, 3.2, 1.3, 0.2])\n",
        "with torch.no_grad():\n",
        "  print(model(new_iris).argmax().item())"
      ],
      "metadata": {
        "colab": {
          "base_uri": "https://localhost:8080/"
        },
        "id": "8PLX_Hlr_hDR",
        "outputId": "058c6d73-4f17-4700-8411-1ddff6f72f94"
      },
      "execution_count": 157,
      "outputs": [
        {
          "output_type": "stream",
          "name": "stdout",
          "text": [
            "0\n"
          ]
        }
      ]
    },
    {
      "cell_type": "code",
      "source": [
        "#saving model\n",
        "torch.save(model.state_dict(), \"my_model.pt\")"
      ],
      "metadata": {
        "id": "GNVktR8uDzyj"
      },
      "execution_count": 158,
      "outputs": []
    },
    {
      "cell_type": "code",
      "source": [
        "new_model = Model()\n",
        "new_model.load_state_dict(torch.load(\"my_model.pt\"))\n",
        "# with torch.no_grad():\n",
        "#   print(new_model(new_iris).argmax().item())\n",
        "\n",
        "new_model.eval()"
      ],
      "metadata": {
        "colab": {
          "base_uri": "https://localhost:8080/"
        },
        "id": "dETEMTTnFrVe",
        "outputId": "51442b22-0270-419b-a8a0-6b475df3a9c2"
      },
      "execution_count": 159,
      "outputs": [
        {
          "output_type": "execute_result",
          "data": {
            "text/plain": [
              "Model(\n",
              "  (fc1): Linear(in_features=4, out_features=8, bias=True)\n",
              "  (act1): ReLU()\n",
              "  (fc2): Linear(in_features=8, out_features=9, bias=True)\n",
              "  (act2): ReLU()\n",
              "  (fc3): Linear(in_features=9, out_features=3, bias=True)\n",
              "  (act3): Softmax(dim=None)\n",
              ")"
            ]
          },
          "metadata": {},
          "execution_count": 159
        }
      ]
    },
    {
      "cell_type": "code",
      "source": [
        "##CNN\n",
        "import torch\n",
        "import torch.nn as nn\n",
        "import torch.nn.functional as F\n",
        "from torch.utils.data import dataloader\n",
        "from torchvision import datasets, transforms\n",
        "from torchvision.utils import make_grid\n",
        "\n",
        "import numpy as np\n",
        "import pandas as pd\n",
        "from sklearn.metrics import confusion_matrix\n",
        "import matplotlib.pyplot as plt\n",
        "%matplotlib inline"
      ],
      "metadata": {
        "id": "YvN5qoeIGCLg"
      },
      "execution_count": 162,
      "outputs": []
    },
    {
      "cell_type": "code",
      "source": [
        "#converting mnist into a 4d tensor (images, height, width, color)\n",
        "transform = transforms.ToTensor()\n",
        "\n",
        "#test dat\n",
        "train_data = datasets.MNIST(root = \"cnn data\", train=True, download=True, transform=transform)\n",
        "#test\n",
        "test_data = datasets.MNIST(root = \"cnn data\", train=False, download=True, transform=transform)"
      ],
      "metadata": {
        "id": "bSdDZ66eYj_s"
      },
      "execution_count": 165,
      "outputs": []
    },
    {
      "cell_type": "code",
      "source": [
        "train_loader = dataloader(train_data, batch_size = 10, shuffle = True)\n",
        "test_loader = dataloader(test_data, batch_size = 10, shuffle = True)"
      ],
      "metadata": {
        "id": "UUEYgE-UZ_cr"
      },
      "execution_count": null,
      "outputs": []
    }
  ]
}