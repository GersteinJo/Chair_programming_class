{
  "nbformat": 4,
  "nbformat_minor": 0,
  "metadata": {
    "colab": {
      "provenance": []
    },
    "kernelspec": {
      "name": "python3",
      "display_name": "Python 3"
    },
    "language_info": {
      "name": "python"
    }
  },
  "cells": [
    {
      "cell_type": "markdown",
      "source": [
        "##2PPy Collatz's hypothesis\n",
        "\n",
        "As it turned out python works pretty well with no optimisation, so I propose the direct solution **Текст, выделенный полужирным шрифтом**"
      ],
      "metadata": {
        "id": "RcA8zZkxWASo"
      }
    },
    {
      "cell_type": "code",
      "execution_count": 25,
      "metadata": {
        "id": "hKYkTImbV_OA",
        "colab": {
          "base_uri": "https://localhost:8080/"
        },
        "outputId": "fd295075-4e35-4f0f-ff87-c1c12ad8927d"
      },
      "outputs": [
        {
          "output_type": "stream",
          "name": "stdout",
          "text": [
            "Maximal length of the sequence and the number that originates it:  525 ,  837799\n",
            "Number that's furthest from 1 and the number that starts the sequence that contains it: 56991483520.0 ,  704511\n"
          ]
        }
      ],
      "source": [
        "max_len = 0 # maximal length of the sequence\n",
        "num_max_len = -1 # number that starts that sequence\n",
        "maximal = 0 # number that's furtherst from 1\n",
        "maximal_here_bool = False\n",
        "num_maximal = 0 #number that starts the sequence that contains maximal\n",
        "for i in range (1000001):\n",
        "  n = i\n",
        "  seq = [n]\n",
        "  maximal_here_bool = False\n",
        "  while n>1:\n",
        "    n = 3*n+1 if n%2 else n/2\n",
        "    seq.append(n)\n",
        "    if n>maximal:\n",
        "      maximal = n;\n",
        "      maximal_here_bool = True\n",
        "      num_maximal = i\n",
        "  if len(seq)>max_len:\n",
        "    max_len = len(seq)\n",
        "    num_max_len = i\n",
        "print(\"Maximal length of the sequence and the number that originates it: \", max_len,\", \", num_max_len)\n",
        "print(\"Number that's furthest from 1 and the number that starts the sequence that contains it:\", maximal,\", \", num_maximal)\n"
      ]
    },
    {
      "cell_type": "markdown",
      "source": [
        "##1PPy Circular Primes\n",
        "\n",
        "Once again we're thankful that colab is awesome so we don't really have to optimize the code what so ever"
      ],
      "metadata": {
        "id": "-la8udbRYkku"
      }
    },
    {
      "cell_type": "code",
      "source": [
        "import collections as clct\n",
        "def isprime(num):\n",
        "  for n in range(2,int(num**0.5)+1):\n",
        "      if num%n==0:\n",
        "           return False\n",
        "  return True\n",
        "\n",
        "def is_circ_prime(num):\n",
        "  num_deque = clct.deque(str(num))\n",
        "  for j in range (1, len(num_deque)):\n",
        "    num_deque.rotate(1)\n",
        "    if not(isprime(int(\"\".join(num_deque)))):\n",
        "      return False\n",
        "  return True\n"
      ],
      "metadata": {
        "id": "qTA2V16RXgBT"
      },
      "execution_count": 26,
      "outputs": []
    },
    {
      "cell_type": "code",
      "source": [
        "counter = 13 #there were 13 circular primes in the interval from 1 to 100\n",
        "for i in range(100, 1000001):\n",
        "  if isprime(i):\n",
        "    if is_circ_prime(i): counter += 1\n",
        "\n",
        "print(\"Number of circular primes: \", counter)\n",
        "\n",
        "\n",
        "\n",
        "\n",
        "\n"
      ],
      "metadata": {
        "id": "MsvYhE6Cd9Q7",
        "colab": {
          "base_uri": "https://localhost:8080/"
        },
        "outputId": "7cf604b4-a637-42dc-a7f1-fd6edfc6b027"
      },
      "execution_count": 27,
      "outputs": [
        {
          "output_type": "stream",
          "name": "stdout",
          "text": [
            "Number of circular primes:  55\n"
          ]
        }
      ]
    },
    {
      "cell_type": "markdown",
      "source": [
        "###3PPy Poker Hands\n",
        "\n",
        "We want to somehow create masks for all possible combinations. \\\\\n",
        "I start by parcing the file with card combinations into numbers by the rules provided in the dictionaries ranks and suits (def parce_card). \\\\\n",
        "Classification happens in the function (def parce_hand) that returns a score of the combination with the highest score being 23 for royal flush and lowest 2 for the highest card having rank 2 (which is impossible seeing as there only 4 cards with the same rank in the deck, but I graded all (even improbable) combinations)"
      ],
      "metadata": {
        "id": "lEU2-nKjQiSf"
      }
    },
    {
      "cell_type": "code",
      "source": [
        "import numpy as np\n",
        "variants = {\n",
        "    'Royal Flush': 'Aces, king, queen, jack, 10 of the same suit',\n",
        "    'Straight Flush': '5 sequential in rank cards of the same suit',\n",
        "    'Full of kind': '4 cards of the same rank',\n",
        "    'Full house': '1 triplet 1 doublet',\n",
        "    'Flush': '5 cards of the same suit',\n",
        "    'Straight': '5 sequential in rank cards regardless of suit',\n",
        "    'Three of a kind': '3 cards of the same rank',\n",
        "    'Two pairs': '2 doublets in rank',\n",
        "    'One pair': '1 doublet',\n",
        "    'High card': 'none of the above',\n",
        "}\n",
        "\n",
        "ranks = {'2':2, '3':3, '4':4, '5':5, '6':6, '7':7, '8':8, '9':9, 'T':10, 'J':11, 'Q':12, 'K':13, 'A':14}\n",
        "suits = {'C':0,'D':1,'H':2,'S':3}\n"
      ],
      "metadata": {
        "id": "Pj8cP_r6enjK"
      },
      "execution_count": 28,
      "outputs": []
    },
    {
      "cell_type": "code",
      "source": [
        "def parce_card(card):\n",
        "  return [ranks[card[0]], suits[card[1]]] # so we get the list in which first goes number fo rank the number for suit\n",
        "\n",
        "def parce_hand(hand):\n",
        "  ranks_in_hand = hand[:, 0]\n",
        "  suits_in_hand = hand[:, 1]\n",
        "  if len(np.unique(suits_in_hand)) == 1 and (ranks_in_hand==np.arange(10,15)).all(): return 23                     #'Royal Flush'\n",
        "  elif len(np.unique(suits_in_hand)) == 1 and (ranks_in_hand-ranks_in_hand.min()==np.arange(0,5)).all(): return 22 #'Straight Flush'\n",
        "  elif (len(np.unique(ranks_in_hand))==2 and\n",
        "   (len(ranks_in_hand[ranks_in_hand == ranks_in_hand[0]])==4 or\n",
        "   len(ranks_in_hand[ranks_in_hand == ranks_in_hand[0]])==1)): return 21                                           #'Full of kind'\n",
        "  elif (len(np.unique(ranks_in_hand))==2 and\n",
        "   (len(ranks_in_hand[ranks_in_hand == ranks_in_hand[0]])==3\n",
        "    or len(ranks_in_hand[ranks_in_hand == ranks_in_hand[0]])==2)): return 20                                       #'Full house'\n",
        "  elif len(np.unique(suits_in_hand)) == 1: return 19                                                               #'Flush'\n",
        "  elif (ranks_in_hand-ranks_in_hand.min()==np.arange(0,5)).all(): return 18                                        #'Straight'\n",
        "  elif len(ranks_in_hand[ranks_in_hand==ranks_in_hand[2]]) == 3: return 17                                         #'Three of kind'\n",
        "  elif len(np.unique(ranks_in_hand))==3: return 16                                                                 #'Two pairs'\n",
        "  elif len(np.unique(ranks_in_hand))==4: return 15                                                                 #'Pair'\n",
        "  else: return ranks_in_hand.max()                                                                                 #'High card'\n",
        "\n",
        "\n",
        "\n",
        "f = open(\"poker.txt\")\n",
        "player_1, player_2 = [], []\n",
        "counter = 0\n",
        "\n",
        "for line in f:\n",
        "  splitted_line = line.split()\n",
        "  parced_line = []\n",
        "  for card in splitted_line:\n",
        "    parced_line.append(parce_card(card))\n",
        "  player_1.append(parced_line[0:5])\n",
        "  player_2.append(parced_line[5:10])\n",
        "\n",
        "player_1 = np.array(player_1)\n",
        "player_2 = np.array(player_2)\n",
        "\n",
        "\n",
        "for hand in player_1: sorted(hand, key = lambda x: (x[0], x[1]))\n",
        "for hand in player_2: sorted(hand, key = lambda x: (x[0], x[1]))\n",
        "\n",
        "\n",
        "comb_1 = []\n",
        "comb_2 = []\n",
        "\n",
        "for i in range(player_1.shape[0]):\n",
        "  comb_1.append(parce_hand(player_1[i]))\n",
        "  comb_2.append(parce_hand(player_2[i]))\n",
        "\n",
        "comb_1 = np.array(comb_1)\n",
        "comb_2 = np.array(comb_2)\n",
        "\n",
        "results = comb_1>comb_2\n",
        "\n",
        "print(\"1st player wins 2nd: \", len(results[results>0]))"
      ],
      "metadata": {
        "id": "SO45FbORY9dl",
        "colab": {
          "base_uri": "https://localhost:8080/"
        },
        "outputId": "b17e4cbc-ff3e-4826-ee75-3eb062662a8d"
      },
      "execution_count": 29,
      "outputs": [
        {
          "output_type": "stream",
          "name": "stdout",
          "text": [
            "1st player wins 2nd:  310\n"
          ]
        }
      ]
    },
    {
      "cell_type": "code",
      "source": [],
      "metadata": {
        "colab": {
          "base_uri": "https://localhost:8080/"
        },
        "id": "h_qX3TUM2tL-",
        "outputId": "c0221dad-30f7-4f05-cb8a-c51bc96b2231"
      },
      "execution_count": 29,
      "outputs": [
        {
          "output_type": "execute_result",
          "data": {
            "text/plain": [
              "4"
            ]
          },
          "metadata": {},
          "execution_count": 29
        }
      ]
    },
    {
      "cell_type": "code",
      "source": [],
      "metadata": {
        "colab": {
          "base_uri": "https://localhost:8080/"
        },
        "id": "vCsx25pb24yl",
        "outputId": "ea546277-f702-46fd-8ad6-cc0f6e015a91"
      },
      "execution_count": 21,
      "outputs": [
        {
          "output_type": "execute_result",
          "data": {
            "text/plain": [
              "1"
            ]
          },
          "metadata": {},
          "execution_count": 21
        }
      ]
    },
    {
      "cell_type": "code",
      "source": [],
      "metadata": {
        "id": "ATUbU4sY7Isx"
      },
      "execution_count": null,
      "outputs": []
    }
  ]
}